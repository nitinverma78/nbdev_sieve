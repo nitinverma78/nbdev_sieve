{
 "cells": [
  {
   "cell_type": "code",
   "execution_count": null,
   "metadata": {},
   "outputs": [],
   "source": [
    "#| hide\n",
    "from nbdev_sieve.sieve import *"
   ]
  },
  {
   "cell_type": "markdown",
   "metadata": {},
   "source": [
    "# nbdev_sieve\n",
    "\n",
    "> Notebook based development"
   ]
  },
  {
   "attachments": {},
   "cell_type": "markdown",
   "metadata": {},
   "source": [
    "README file and the index of documentation."
   ]
  },
  {
   "cell_type": "markdown",
   "metadata": {},
   "source": [
    "## Install"
   ]
  },
  {
   "cell_type": "markdown",
   "metadata": {},
   "source": [
    "```sh\n",
    "pip install nbdev_sieve\n",
    "```"
   ]
  },
  {
   "cell_type": "markdown",
   "metadata": {},
   "source": [
    "## How to use"
   ]
  },
  {
   "attachments": {},
   "cell_type": "markdown",
   "metadata": {},
   "source": [
    "For now only the sieve(N: int) generator can be called"
   ]
  },
  {
   "cell_type": "code",
   "execution_count": null,
   "metadata": {},
   "outputs": [
    {
     "name": "stdout",
     "output_type": "stream",
     "text": [
      "[2, 3, 5, 7, 11, 13]\n"
     ]
    }
   ],
   "source": [
    "N = 17\n",
    "primes = [p for p in sieve(N)]\n",
    "print (primes)"
   ]
  },
  {
   "cell_type": "code",
   "execution_count": null,
   "metadata": {},
   "outputs": [
    {
     "data": {
      "text/plain": [
       "{10: 4,\n",
       " 100: 25,\n",
       " 1000: 168,\n",
       " 10000: 1229,\n",
       " 100000: 9592,\n",
       " 1000000: 78498,\n",
       " 10000000: 664579}"
      ]
     },
     "execution_count": null,
     "metadata": {},
     "output_type": "execute_result"
    }
   ],
   "source": [
    "## Helper functions\n",
    "def primes(N: int = 10):\n",
    "    \"get list of primes\"\n",
    "    return [p for p in sieve(N)]\n",
    "\n",
    "def prime_count(om: int = 8):\n",
    "    \"#primes < 10^om\"\n",
    "    return {N: len(primes(N)) for o in range(1,om) if(N:=10**o)}\n",
    "\n",
    "π = prime_count()\n",
    "π"
   ]
  }
 ],
 "metadata": {
  "kernelspec": {
   "display_name": "Test",
   "language": "python",
   "name": "python3"
  }
 },
 "nbformat": 4,
 "nbformat_minor": 4
}
