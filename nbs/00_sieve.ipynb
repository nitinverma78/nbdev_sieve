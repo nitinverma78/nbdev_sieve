{
 "cells": [
  {
   "attachments": {},
   "cell_type": "markdown",
   "metadata": {},
   "source": [
    "# sieve\n",
    "\n",
    "> This is basic module that generate all primes upto 'N' using Eratosthenes sieve algorithm"
   ]
  },
  {
   "cell_type": "code",
   "execution_count": null,
   "metadata": {},
   "outputs": [],
   "source": [
    "#| default_exp sieve"
   ]
  },
  {
   "cell_type": "code",
   "execution_count": null,
   "metadata": {},
   "outputs": [],
   "source": [
    "#| hide\n",
    "from nbdev.showdoc import *\n",
    "from fastcore.test import *\n"
   ]
  },
  {
   "cell_type": "code",
   "execution_count": null,
   "metadata": {},
   "outputs": [],
   "source": [
    "#| export\n",
    "from fastcore.utils import *"
   ]
  },
  {
   "cell_type": "code",
   "execution_count": null,
   "metadata": {},
   "outputs": [],
   "source": [
    "#| export\n",
    "def sieve(N=10):\n",
    "    \"sieve of Eratosthenes\"\n",
    "    assert N>1\n",
    "    prime = [True]*(N+1)\n",
    "    for i in range (2,N):\n",
    "        if prime[i]:\n",
    "            yield (i)\n",
    "            for j in range(i*i,N,i):\n",
    "                prime[j] = False"
   ]
  },
  {
   "cell_type": "code",
   "execution_count": null,
   "metadata": {},
   "outputs": [],
   "source": [
    "primes = [p for p in sieve(100)]\n",
    "test_eq(len(primes),25)"
   ]
  },
  {
   "cell_type": "code",
   "execution_count": null,
   "metadata": {},
   "outputs": [
    {
     "data": {
      "text/markdown": [
       "---\n",
       "\n",
       "### sieve\n",
       "\n",
       ">      sieve (N=10)\n",
       "\n",
       "sieve of Eratosthenes"
      ],
      "text/plain": [
       "---\n",
       "\n",
       "### sieve\n",
       "\n",
       ">      sieve (N=10)\n",
       "\n",
       "sieve of Eratosthenes"
      ]
     },
     "execution_count": null,
     "metadata": {},
     "output_type": "execute_result"
    }
   ],
   "source": [
    "show_doc(sieve)"
   ]
  },
  {
   "cell_type": "code",
   "execution_count": null,
   "metadata": {},
   "outputs": [],
   "source": [
    "#| hide\n",
    "import nbdev; nbdev.nbdev_export()"
   ]
  }
 ],
 "metadata": {
  "kernelspec": {
   "display_name": "Test",
   "language": "python",
   "name": "python3"
  }
 },
 "nbformat": 4,
 "nbformat_minor": 4
}
