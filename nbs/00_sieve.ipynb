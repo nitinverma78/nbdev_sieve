{
 "cells": [
  {
   "attachments": {},
   "cell_type": "markdown",
   "metadata": {},
   "source": [
    "# sieve\n",
    "\n",
    "> This is basic module that generate all primes ≤ 'N' using Eratosthenes sieve algorithm"
   ]
  },
  {
   "cell_type": "code",
   "execution_count": null,
   "metadata": {},
   "outputs": [],
   "source": [
    "#| default_exp sieve"
   ]
  },
  {
   "cell_type": "code",
   "execution_count": null,
   "metadata": {},
   "outputs": [],
   "source": [
    "#| hide\n",
    "from nbdev.showdoc import *\n",
    "from fastcore.test import *"
   ]
  },
  {
   "cell_type": "code",
   "execution_count": null,
   "metadata": {},
   "outputs": [],
   "source": [
    "#| export\n",
    "from fastcore.utils import *"
   ]
  },
  {
   "cell_type": "code",
   "execution_count": null,
   "metadata": {},
   "outputs": [],
   "source": [
    "#| export\n",
    "def sieve(N=10):\n",
    "    \"sieve of Eratosthenes\"\n",
    "    N = int(N)\n",
    "    prime = [True]*(N+1)\n",
    "    for i in range (2,N+1):\n",
    "        if prime[i]:\n",
    "            yield (i)\n",
    "            for j in range(i*i,N+1,i):\n",
    "                prime[j] = False"
   ]
  },
  {
   "attachments": {},
   "cell_type": "markdown",
   "metadata": {},
   "source": [
    "### Usage"
   ]
  },
  {
   "cell_type": "code",
   "execution_count": null,
   "metadata": {},
   "outputs": [
    {
     "name": "stdout",
     "output_type": "stream",
     "text": [
      "[2, 3, 5, 7, 11, 13, 17]\n"
     ]
    }
   ],
   "source": [
    "print([p for p in sieve(17)])"
   ]
  },
  {
   "cell_type": "code",
   "execution_count": null,
   "metadata": {},
   "outputs": [
    {
     "data": {
      "text/markdown": [
       "---\n",
       "\n",
       "[source](https://github.com/nitinverma78/nbdev_sieve/blob/main/nbdev_sieve/sieve.py#L10){target=\"_blank\" style=\"float:right; font-size:smaller\"}\n",
       "\n",
       "### sieve\n",
       "\n",
       ">      sieve (N=10)\n",
       "\n",
       "sieve of Eratosthenes"
      ],
      "text/plain": [
       "---\n",
       "\n",
       "[source](https://github.com/nitinverma78/nbdev_sieve/blob/main/nbdev_sieve/sieve.py#L10){target=\"_blank\" style=\"float:right; font-size:smaller\"}\n",
       "\n",
       "### sieve\n",
       "\n",
       ">      sieve (N=10)\n",
       "\n",
       "sieve of Eratosthenes"
      ]
     },
     "execution_count": null,
     "metadata": {},
     "output_type": "execute_result"
    }
   ],
   "source": [
    "show_doc(sieve)"
   ]
  },
  {
   "attachments": {},
   "cell_type": "markdown",
   "metadata": {},
   "source": [
    "## Tests"
   ]
  },
  {
   "cell_type": "code",
   "execution_count": null,
   "metadata": {},
   "outputs": [],
   "source": [
    "\n",
    "test_eq([p for p in sieve(0)],[])\n",
    "test_eq([p for p in sieve(1)],[])\n",
    "test_eq([p for p in sieve(2)],[2])\n",
    "test_eq([p for p in sieve(3)],[2,3])"
   ]
  },
  {
   "cell_type": "code",
   "execution_count": null,
   "metadata": {},
   "outputs": [],
   "source": [
    "#| hide\n",
    "import nbdev; nbdev.nbdev_export()"
   ]
  }
 ],
 "metadata": {
  "kernelspec": {
   "display_name": "Test",
   "language": "python",
   "name": "python3"
  }
 },
 "nbformat": 4,
 "nbformat_minor": 4
}
