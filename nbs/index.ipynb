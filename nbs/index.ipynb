{
 "cells": [
  {
   "cell_type": "code",
   "execution_count": null,
   "metadata": {},
   "outputs": [],
   "source": [
    "#| hide\n",
    "from nbdev_sieve.sieve import *\n",
    "#import matplotlib.pyplot as plt\n",
    "import math"
   ]
  },
  {
   "cell_type": "markdown",
   "metadata": {},
   "source": [
    "# nbdev_sieve\n",
    "\n",
    "> Notebook based development"
   ]
  },
  {
   "attachments": {},
   "cell_type": "markdown",
   "metadata": {},
   "source": [
    "README file and the index of documentation."
   ]
  },
  {
   "cell_type": "markdown",
   "metadata": {},
   "source": [
    "## Install"
   ]
  },
  {
   "cell_type": "markdown",
   "metadata": {},
   "source": [
    "```sh\n",
    "pip install nbdev_sieve\n",
    "```"
   ]
  },
  {
   "attachments": {},
   "cell_type": "markdown",
   "metadata": {},
   "source": [
    "## How to use\n",
    "For now, only the sieve(N: int) generator can be called"
   ]
  },
  {
   "cell_type": "code",
   "execution_count": null,
   "metadata": {},
   "outputs": [
    {
     "name": "stdout",
     "output_type": "stream",
     "text": [
      "[2, 3, 5, 7, 11, 13, 17]\n"
     ]
    }
   ],
   "source": [
    "## Helper functions\n",
    "def primes(N: int = 10):\n",
    "    \"get list of primes\"\n",
    "    return [p for p in sieve(N)]\n",
    "\n",
    "print (primes(17))"
   ]
  },
  {
   "attachments": {},
   "cell_type": "markdown",
   "metadata": {},
   "source": [
    "### Count primes at higher order of magnitude\n",
    "[see prime counting function](https://en.wikipedia.org/wiki/Prime-counting_function)\n",
    "\n",
    "n       | π(n) \n",
    "--------|-------\n",
    "10^1    | 4\n",
    "10^2    | 25\n",
    "10^3    | 168\n",
    "10^4    | 1,229\n",
    "10^5    | 9,592\n",
    "10^6    | 78,498\n",
    "10^7    | 664,579\n",
    "10^8    | 5,761,455\n",
    "10^9    | 50,847,534\n",
    "10^10   | 455,052,511\n"
   ]
  },
  {
   "cell_type": "code",
   "execution_count": null,
   "metadata": {},
   "outputs": [
    {
     "data": {
      "text/plain": [
       "{1: 0,\n",
       " 10: 4,\n",
       " 100: 25,\n",
       " 1000: 168,\n",
       " 10000: 1229,\n",
       " 100000: 9592,\n",
       " 1000000: 78498,\n",
       " 10000000: 664579}"
      ]
     },
     "execution_count": null,
     "metadata": {},
     "output_type": "execute_result"
    }
   ],
   "source": [
    "def prime_count(om: int = 8):\n",
    "    \"#primes < 10^om\"\n",
    "    return {n: len(primes(n)) for o in range(om) if(n:=10**o)}\n",
    "\n",
    "π = prime_count()\n",
    "π"
   ]
  },
  {
   "cell_type": "markdown",
   "metadata": {},
   "source": [
    "fig, ax = plt.subplots()\n",
    "ax.scatter([math.log10(n) for n in π], [c/n for n, c in π.items()])\n",
    "plt.xlabel(\"Order of Magnitude (10^n)\")\n",
    "plt.ylabel(\"Fraction of primes\")\n",
    "plt.show()"
   ]
  }
 ],
 "metadata": {
  "kernelspec": {
   "display_name": "Test",
   "language": "python",
   "name": "python3"
  }
 },
 "nbformat": 4,
 "nbformat_minor": 4
}
